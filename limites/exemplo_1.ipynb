{
 "cells": [
  {
   "cell_type": "code",
   "execution_count": null,
   "metadata": {},
   "outputs": [],
   "source": [
    "\t\n",
    "from sympy import Symbol, Limit, init_printing\n",
    "\n",
    "\n",
    "init_printing(use_latex=True)\n",
    "\n",
    "x = Symbol('x')\n",
    "\n",
    "def f(x):\n",
    "    return (x**3 + x**2 + x)**101\n",
    "\n",
    "def g(x):\n",
    "    return (x**2-(2*x))/(x+1)\n",
    "\n",
    "print('Considerando a função f(x)')\n",
    "display(f(x))\n",
    "print('\\ne a função g(x)')\n",
    "display(g(x))\n",
    "\n",
    "limite_fx = Limit(f(x), x, -1)\n",
    "limite_gx = Limit(g(x), x, 3)\n",
    "\n",
    "print('\\nCalcule o valor do seguinte limite:')\n",
    "display(limite_fx - 4 * limite_gx)\n",
    "\n",
    "print('\\nResultado: {}'.format(limite_fx.doit() - (4 * limite_gx.doit())))\n"
   ]
  }
 ],
 "metadata": {
  "celltoolbar": "Edit Metadata",
  "kernelspec": {
   "display_name": "Python 3",
   "language": "python",
   "name": "python3"
  },
  "language_info": {
   "codemirror_mode": {
    "name": "ipython",
    "version": 3
   },
   "file_extension": ".py",
   "mimetype": "text/x-python",
   "name": "python",
   "nbconvert_exporter": "python",
   "pygments_lexer": "ipython3",
   "version": "3.7.1"
  }
 },
 "nbformat": 4,
 "nbformat_minor": 2
}
