{
 "cells": [
  {
   "cell_type": "code",
   "execution_count": null,
   "metadata": {},
   "outputs": [],
   "source": [
    "\t\n",
    "from sympy import Symbol, Limit, init_printing\n",
    "\n",
    "\n",
    "init_printing(use_latex=True)\n"
   ]
  },
  {
   "cell_type": "code",
   "execution_count": null,
   "metadata": {},
   "outputs": [],
   "source": [
    "x = Symbol('x')\n",
    "\n",
    "def f(x):\n",
    "    return (x**3 + x**2 + x)**101\n",
    "\n",
    "def g(x):\n",
    "    return (x**2-(2*x))/(x+1)\n",
    "\n",
    "print('Considerando a função f(x)')\n",
    "display(f(x))\n",
    "print('\\ne a função g(x)')\n",
    "display(g(x))\n",
    "\n",
    "limite_fx = Limit(f(x), x, -1)\n",
    "limite_gx = Limit(g(x), x, 3)\n",
    "\n",
    "print('\\nCalcule o valor do seguinte limite:')\n",
    "display(limite_fx - 4 * limite_gx)"
   ]
  },
  {
   "cell_type": "code",
   "execution_count": null,
   "metadata": {},
   "outputs": [],
   "source": [
    "resultado_fx = limite_fx.doit()\n",
    "resultado_gx = limite_gx.doit()\n",
    "\n",
    "print('- 4 * {} + {}'.format(resultado_gx, resultado_fx))\n",
    "\n",
    "print('Resultado: {}'.format(- 4 * resultado_gx + resultado_fx))\n"
   ]
  },
  {
   "cell_type": "code",
   "execution_count": null,
   "metadata": {},
   "outputs": [],
   "source": []
  }
 ],
 "metadata": {
  "celltoolbar": "Raw Cell Format",
  "kernelspec": {
   "display_name": "Python 3",
   "language": "python",
   "name": "python3"
  },
  "language_info": {
   "codemirror_mode": {
    "name": "ipython",
    "version": 3
   },
   "file_extension": ".py",
   "mimetype": "text/x-python",
   "name": "python",
   "nbconvert_exporter": "python",
   "pygments_lexer": "ipython3",
   "version": "3.7.1"
  }
 },
 "nbformat": 4,
 "nbformat_minor": 2
}
