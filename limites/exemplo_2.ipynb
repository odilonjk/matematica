{
 "cells": [
  {
   "cell_type": "code",
   "execution_count": null,
   "metadata": {},
   "outputs": [],
   "source": [
    "from sympy import Symbol, Limit, init_printing\n",
    "\n",
    "\n",
    "init_printing(use_latex=True)\n"
   ]
  },
  {
   "cell_type": "code",
   "execution_count": null,
   "metadata": {},
   "outputs": [],
   "source": [
    "t = Symbol('t')\n",
    "\n",
    "def p(t):\n",
    "    return 180 - 110 * (1/2)**(0.5*t)\n",
    "\n",
    "print('Considere a função p(t)')\n",
    "display(p(t))\n",
    "\n",
    "print('Qual o valor limite de \\'t\\', tendendo ao infinto?')"
   ]
  },
  {
   "cell_type": "code",
   "execution_count": null,
   "metadata": {},
   "outputs": [],
   "source": [
    "expr = Limit(p(t), t, 'oo')\n",
    "display(expr)\n",
    "print('\\nResultado: {}'.format(expr.doit()))"
   ]
  }
 ],
 "metadata": {
  "kernelspec": {
   "display_name": "Python 3",
   "language": "python",
   "name": "python3"
  },
  "language_info": {
   "codemirror_mode": {
    "name": "ipython",
    "version": 3
   },
   "file_extension": ".py",
   "mimetype": "text/x-python",
   "name": "python",
   "nbconvert_exporter": "python",
   "pygments_lexer": "ipython3",
   "version": "3.7.1"
  }
 },
 "nbformat": 4,
 "nbformat_minor": 2
}
