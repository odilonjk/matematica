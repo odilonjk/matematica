{
 "cells": [
  {
   "cell_type": "code",
   "execution_count": 1,
   "metadata": {},
   "outputs": [],
   "source": [
    "import numpy as np\n",
    "import matplotlib.pyplot as plt\n",
    "import math\n",
    "from sympy import *\n",
    "from pylab import *\n",
    "\n",
    "\n",
    "init_printing(use_latex=True)\n",
    "\n",
    "t, x = symbols('t x')"
   ]
  },
  {
   "cell_type": "markdown",
   "metadata": {},
   "source": [
    "# Plano Cartesiano\n",
    "\n",
    "### Função da distância\n",
    "\n",
    "$d_{AB} = \\sqrt{(x_B - x_A)^2 + (y_B - y_A)^2}$ "
   ]
  },
  {
   "cell_type": "markdown",
   "metadata": {},
   "source": [
    "**Exemplo 1**\n",
    "\n",
    "$A = (1, 1) \\\\ B = (5, 4) \\\\ D = (1, \\frac{1}{2})$\n",
    "\n",
    "$d_{AB} = \\sqrt{(5 - 1)^2 + (4 - 1)^2} = \\sqrt{16 + 9} = \\sqrt{25}$ \n",
    "\n",
    "$d_{AB} = 5$\n",
    "\n",
    "$d_{AD} = \\sqrt{(1 - 1)^2 + (\\frac{1}{2} - 1)^2} = \\sqrt{0,25}$ \n",
    "\n",
    "$d_{AD} = 0,5$"
   ]
  },
  {
   "cell_type": "code",
   "execution_count": 13,
   "metadata": {},
   "outputs": [
    {
     "data": {
      "image/png": "[encoded data removed]",
      "text/plain": [
       "<Figure size 432x288 with 1 Axes>"
      ]
     },
     "metadata": {
      "needs_background": "light"
     },
     "output_type": "display_data"
    },
    {
     "data": {
      "image/png": "[encoded data removed]",
      "text/latex": [
       "$$Dist. (A,B) = 5.0$$"
      ],
      "text/plain": [
       "Dist. (A,B) = 5.0"
      ]
     },
     "metadata": {},
     "output_type": "display_data"
    },
    {
     "data": {
      "image/png": "[encoded data removed]",
      "text/latex": [
       "$$Dist. (A,D) = 0.5$$"
      ],
      "text/plain": [
       "Dist. (A,D) = 0.5"
      ]
     },
     "metadata": {},
     "output_type": "display_data"
    }
   ],
   "source": [
    "a = np.array([1,1])\n",
    "b = np.array([5,4])\n",
    "d = np.array([1,0.5])\n",
    "\n",
    "x = a[0],b[0],d[0]\n",
    "y = a[1],b[1],d[1]\n",
    "color=['m','g','r']\n",
    "\n",
    "fig = plt.figure()\n",
    "ax = plt.axes()\n",
    "ax.plot([a[0],b[0]], [a[1],b[1]])\n",
    "ax.plot([a[0],d[0]], [a[1],d[1]])\n",
    "\n",
    "scatter(x, y, marker='o', c=color)\n",
    "\n",
    "ax.annotate('A',\n",
    "            xy=(1, 1), \n",
    "            xytext=(0, 10), \n",
    "            textcoords='offset points')\n",
    "\n",
    "ax.annotate('B',\n",
    "            xy=(5, 4), \n",
    "            xytext=(-15, 0), \n",
    "            textcoords='offset points')\n",
    "\n",
    "ax.annotate('D',\n",
    "            xy=(1, 0.5), \n",
    "            xytext=(5, -10), \n",
    "            textcoords='offset points')\n",
    "\n",
    "\n",
    "grid()\n",
    "show()\n",
    "\n",
    "display(Eq(Symbol('Dist. (A,B)'), np.linalg.norm(a - b)))\n",
    "display(Eq(Symbol('Dist. (A,D)'), np.linalg.norm(a - d)))"
   ]
  }
 ],
 "metadata": {
  "kernelspec": {
   "display_name": "Python 3",
   "language": "python",
   "name": "python3"
  },
  "language_info": {
   "codemirror_mode": {
    "name": "ipython",
    "version": 3
   },
   "file_extension": ".py",
   "mimetype": "text/x-python",
   "name": "python",
   "nbconvert_exporter": "python",
   "pygments_lexer": "ipython3",
   "version": "3.7.1"
  }
 },
 "nbformat": 4,
 "nbformat_minor": 2
}
