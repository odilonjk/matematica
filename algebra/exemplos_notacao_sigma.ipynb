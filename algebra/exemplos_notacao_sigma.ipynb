{
 "cells": [
  {
   "cell_type": "code",
   "execution_count": 1,
   "metadata": {
    "scrolled": true
   },
   "outputs": [],
   "source": [
    "import numpy as np\n",
    "from sympy import *\n",
    "from sympy.abc import *\n",
    "init_printing(use_latex=True)"
   ]
  },
  {
   "cell_type": "markdown",
   "metadata": {},
   "source": [
    "## Exemplos utilizando notação Sigma\n",
    "\n",
    "### 1 - Soma"
   ]
  },
  {
   "cell_type": "code",
   "execution_count": 2,
   "metadata": {
    "scrolled": true
   },
   "outputs": [
    {
     "name": "stdout",
     "output_type": "stream",
     "text": [
      "Qual o resultado da soma?\n"
     ]
    },
    {
     "data": {
      "image/png": "[encoded data removed]",
      "text/latex": [
       "$$\\sum_{i=1}^{10} 7$$"
      ],
      "text/plain": [
       "  10   \n",
       " ___   \n",
       " ╲     \n",
       "  ╲   7\n",
       "  ╱    \n",
       " ╱     \n",
       " ‾‾‾   \n",
       "i = 1  "
      ]
     },
     "metadata": {},
     "output_type": "display_data"
    },
    {
     "name": "stdout",
     "output_type": "stream",
     "text": [
      "Resultado: 70\n"
     ]
    }
   ],
   "source": [
    "print('Qual o resultado da soma?')\n",
    "expr = Sum(7, (i, 1, 10))\n",
    "display(expr)\n",
    "print('Resultado: {}'.format(expr.doit()))\n"
   ]
  },
  {
   "cell_type": "code",
   "execution_count": 3,
   "metadata": {
    "scrolled": true
   },
   "outputs": [
    {
     "name": "stdout",
     "output_type": "stream",
     "text": [
      "Supondo que:\n"
     ]
    },
    {
     "data": {
      "image/png": "[encoded data removed]",
      "text/latex": [
       "$$x = \\sum_{i=1}^{5} i^{3}$$"
      ],
      "text/plain": [
       "      5     \n",
       "     ___    \n",
       "     ╲      \n",
       "      ╲    3\n",
       "x =   ╱   i \n",
       "     ╱      \n",
       "     ‾‾‾    \n",
       "    i = 1   "
      ]
     },
     "metadata": {},
     "output_type": "display_data"
    },
    {
     "data": {
      "image/png": "[encoded data removed]",
      "text/latex": [
       "$$y = \\sum_{i=1}^{5} i^{4}$$"
      ],
      "text/plain": [
       "      5     \n",
       "     ___    \n",
       "     ╲      \n",
       "      ╲    4\n",
       "y =   ╱   i \n",
       "     ╱      \n",
       "     ‾‾‾    \n",
       "    i = 1   "
      ]
     },
     "metadata": {},
     "output_type": "display_data"
    },
    {
     "name": "stdout",
     "output_type": "stream",
     "text": [
      "Podemos afirmar que 2x + 5y é igual a soma a seguir?\n"
     ]
    },
    {
     "data": {
      "image/png": "[encoded data removed]",
      "text/latex": [
       "$$\\sum_{i=1}^{5} \\left(5 i^{4} + 2 i^{3}\\right)$$"
      ],
      "text/plain": [
       "  5                \n",
       " ___               \n",
       " ╲                 \n",
       "  ╲   ⎛   4      3⎞\n",
       "  ╱   ⎝5⋅i  + 2⋅i ⎠\n",
       " ╱                 \n",
       " ‾‾‾               \n",
       "i = 1              "
      ]
     },
     "metadata": {},
     "output_type": "display_data"
    },
    {
     "name": "stdout",
     "output_type": "stream",
     "text": [
      "Sim! Isto é confirmado a partir da regra de simplificação:\n"
     ]
    },
    {
     "data": {
      "image/png": "[encoded data removed]",
      "text/latex": [
       "$$2 \\sum_{i=1}^{5} i^{3} + 5 \\sum_{i=1}^{5} i^{4} = 2 x + 5 y$$"
      ],
      "text/plain": [
       "    5            5                 \n",
       "   ___          ___                \n",
       "   ╲            ╲                  \n",
       "    ╲    3       ╲    4            \n",
       "2⋅  ╱   i  + 5⋅  ╱   i  = 2⋅x + 5⋅y\n",
       "   ╱            ╱                  \n",
       "   ‾‾‾          ‾‾‾                \n",
       "  i = 1        i = 1               "
      ]
     },
     "metadata": {},
     "output_type": "display_data"
    }
   ],
   "source": [
    "print('Supondo que:')\n",
    "\n",
    "expr_x = Eq(x, Sum(i**3, (i, 1, 5)))\n",
    "expr_y = Eq(y, Sum(i**4, (i, 1, 5)))\n",
    "display(expr_x)\n",
    "display(expr_y)\n",
    "\n",
    "print('Podemos afirmar que 2x + 5y é igual a soma a seguir?')\n",
    "soma = Sum((2*i**3 + 5*i**4), (i, 1, 5))\n",
    "display(soma)\n",
    "\n",
    "print('Sim! Isto é confirmado a partir da regra de simplificação:')\n",
    "display(Eq(2 * Sum(i**3, (i, 1, 5)) + 5 * Sum(i**4, (i, 1, 5)), 2*x + 5*y))\n"
   ]
  }
 ],
 "metadata": {
  "kernelspec": {
   "display_name": "Python 3",
   "language": "python",
   "name": "python3"
  },
  "language_info": {
   "codemirror_mode": {
    "name": "ipython",
    "version": 3
   },
   "file_extension": ".py",
   "mimetype": "text/x-python",
   "name": "python",
   "nbconvert_exporter": "python",
   "pygments_lexer": "ipython3",
   "version": "3.7.1"
  }
 },
 "nbformat": 4,
 "nbformat_minor": 2
}
