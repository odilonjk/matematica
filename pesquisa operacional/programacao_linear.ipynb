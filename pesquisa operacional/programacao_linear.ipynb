{
 "cells": [
  {
   "cell_type": "code",
   "execution_count": 1,
   "metadata": {},
   "outputs": [],
   "source": [
    "from pulp import *"
   ]
  },
  {
   "cell_type": "markdown",
   "metadata": {},
   "source": [
    "# Programação Linear"
   ]
  },
  {
   "cell_type": "markdown",
   "metadata": {},
   "source": [
    "**Exemplo 1**\n",
    "\n",
    "Uma pequena empresa de malhas produz dois modelos de malha. A malha com gramatura de 160g/m² que gera lucro líquido de R\\\\$15,90 por metro vendido e a malha com gramatura de 130g/m² que gera lucro líquido de R\\\\$12,75 por metro vendido.\n",
    "Cada malha passa por 3 processos: fiação, tecelagem e tingimento. \n",
    "\n",
    "Cada metro de malha com gramatura de 160g/m² passa por 2 minutos de fiação, 5 minutos de tecelagem e 20 minutos de tingimento.\n",
    "Para a malha com gramatura de 130g/m², é necessário 1 minuto de fiação, 5 minutos de tecelagem e 16 minutos tingimento.\n",
    "\n",
    "A empresa pode realizar o processo de fiação por até 8 horas e meia, de tecelagem por até 10 horas e tingimento por até 10 horas.\n",
    "\n",
    "Vamos calcular quantos metros de cada malha devem ser produzidos para venda, visando maximizar os lucros da empresa:"
   ]
  },
  {
   "cell_type": "code",
   "execution_count": 2,
   "metadata": {},
   "outputs": [
    {
     "name": "stdout",
     "output_type": "stream",
     "text": [
      "Malha_130 = 35.0.\n",
      "Malha_160 = 2.0.\n",
      "O lucro maximizado é de R$478.05\n"
     ]
    }
   ],
   "source": [
    "problema = LpProblem('Maximização de lucro.', LpMaximize)\n",
    "\n",
    "m1 = LpVariable('Malha_160', 0, None, LpInteger)\n",
    "m2 = LpVariable('Malha_130', 0, None, LpInteger)\n",
    "\n",
    "problema += 15.9*m1 + 12.75*m2, 'Lucratividade a ser maximizada.'\n",
    "problema += 2*m1 + 1*m2 <= 510, 'Condição da fiação.'\n",
    "problema += 5*m1 + 5*m2 <= 600, 'Condição da tecelagem.'\n",
    "problema += 20*m1 + 16*m2 <= 600, 'Condição do tingimento.'\n",
    "\n",
    "problema.solve()\n",
    "\n",
    "[print('{} = {}.'.format(v.name, v.varValue)) for v in problema.variables()]\n",
    "print('O lucro maximizado é de R${0:.2f}'.format(value(problema.objective)))\n"
   ]
  }
 ],
 "metadata": {
  "kernelspec": {
   "display_name": "Python 3",
   "language": "python",
   "name": "python3"
  },
  "language_info": {
   "codemirror_mode": {
    "name": "ipython",
    "version": 3
   },
   "file_extension": ".py",
   "mimetype": "text/x-python",
   "name": "python",
   "nbconvert_exporter": "python",
   "pygments_lexer": "ipython3",
   "version": "3.7.1"
  }
 },
 "nbformat": 4,
 "nbformat_minor": 2
}
