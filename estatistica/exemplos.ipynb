{
 "cells": [
  {
   "cell_type": "code",
   "execution_count": 1,
   "metadata": {},
   "outputs": [],
   "source": [
    "import numpy as np\n",
    "from sympy import *\n",
    "from sympy.abc import *\n",
    "init_printing(use_latex=True)\n",
    "\n",
    "\n",
    "dots, x_i = symbols('... x_i')"
   ]
  },
  {
   "cell_type": "markdown",
   "metadata": {},
   "source": [
    "### 1 - Média populacional"
   ]
  },
  {
   "cell_type": "code",
   "execution_count": 2,
   "metadata": {},
   "outputs": [
    {
     "data": {
      "image/png": "[encoded data removed]",
      "text/latex": [
       "$$\\mu = \\frac{\\sum_{i=1}^{n} x_{i}}{n}$$"
      ],
      "text/plain": [
       "      n     \n",
       "     ___    \n",
       "     ╲      \n",
       "      ╲   xᵢ\n",
       "      ╱     \n",
       "     ╱      \n",
       "     ‾‾‾    \n",
       "    i = 1   \n",
       "μ = ────────\n",
       "       n    "
      ]
     },
     "metadata": {},
     "output_type": "display_data"
    }
   ],
   "source": [
    "display(Eq(mu, Sum(x_i, (i, 1, n))/n))"
   ]
  },
  {
   "cell_type": "code",
   "execution_count": 3,
   "metadata": {},
   "outputs": [
    {
     "name": "stdout",
     "output_type": "stream",
     "text": [
      "Por exemplo:\n"
     ]
    },
    {
     "data": {
      "text/latex": [
       "$$x = \\left[\\begin{matrix}1 & 5 & 12\\end{matrix}\\right]$$"
      ],
      "text/plain": [
       "x = [1  5  12]"
      ]
     },
     "metadata": {},
     "output_type": "display_data"
    },
    {
     "data": {
      "image/png": "[encoded data removed]",
      "text/latex": [
       "$$|x| = 3$$"
      ],
      "text/plain": [
       "|x| = 3"
      ]
     },
     "metadata": {},
     "output_type": "display_data"
    },
    {
     "data": {
      "image/png": "[encoded data removed]",
      "text/latex": [
       "$$\\mu x = \\frac{\\sum_{i=1}^{3} x_{i}}{3}$$"
      ],
      "text/plain": [
       "        3     \n",
       "       ___    \n",
       "       ╲      \n",
       "        ╲   xᵢ\n",
       "        ╱     \n",
       "       ╱      \n",
       "       ‾‾‾    \n",
       "      i = 1   \n",
       "μ⋅x = ────────\n",
       "         3    "
      ]
     },
     "metadata": {},
     "output_type": "display_data"
    },
    {
     "data": {
      "image/png": "[encoded data removed]",
      "text/latex": [
       "$$\\mu x = 6.0$$"
      ],
      "text/plain": [
       "μ⋅x = 6.0"
      ]
     },
     "metadata": {},
     "output_type": "display_data"
    }
   ],
   "source": [
    "print('Por exemplo:')\n",
    "vetor = np.array([1, 5, 12])\n",
    "display(Eq(x, simplify(vetor)))\n",
    "display(Eq(Symbol('|x|'), vetor.size))\n",
    "display(Eq(mu*x, Sum(x_i, (i, 1, 3))/vetor.size))\n",
    "display(Eq(mu*x, vetor.sum()/vetor.size))"
   ]
  },
  {
   "cell_type": "markdown",
   "metadata": {},
   "source": [
    "### 2 - Variância populacional"
   ]
  },
  {
   "cell_type": "code",
   "execution_count": 4,
   "metadata": {},
   "outputs": [
    {
     "data": {
      "image/png": "[encoded data removed]",
      "text/latex": [
       "$$\\sigma^{2} = \\sum_{i=1}^{n} \\frac{\\left(- \\mu + x_{i}\\right)^{2}}{n}$$"
      ],
      "text/plain": [
       "       n             \n",
       "      ____           \n",
       "      ╲              \n",
       "       ╲            2\n",
       " 2      ╲  (-μ + xᵢ) \n",
       "σ  =    ╱  ──────────\n",
       "       ╱       n     \n",
       "      ╱              \n",
       "      ‾‾‾‾           \n",
       "     i = 1           "
      ]
     },
     "metadata": {},
     "output_type": "display_data"
    }
   ],
   "source": [
    "display(Eq(sigma**2, Sum((x_i - mu)**2/n, (i, 1, n))))"
   ]
  }
 ],
 "metadata": {
  "kernelspec": {
   "display_name": "Python 3",
   "language": "python",
   "name": "python3"
  },
  "language_info": {
   "codemirror_mode": {
    "name": "ipython",
    "version": 3
   },
   "file_extension": ".py",
   "mimetype": "text/x-python",
   "name": "python",
   "nbconvert_exporter": "python",
   "pygments_lexer": "ipython3",
   "version": "3.7.1"
  }
 },
 "nbformat": 4,
 "nbformat_minor": 2
}
