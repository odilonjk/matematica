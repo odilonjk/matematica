{
 "cells": [
  {
   "cell_type": "code",
   "execution_count": 1,
   "metadata": {},
   "outputs": [],
   "source": [
    "import numpy as np\n",
    "from sympy import *\n",
    "\n",
    "\n",
    "init_printing(use_latex=True)\n",
    "\n",
    "t, x = symbols('t x')"
   ]
  },
  {
   "cell_type": "markdown",
   "metadata": {},
   "source": [
    "# Derivadas\n",
    "\n",
    "### Funções simples\n",
    "\n",
    "$f(x) = k \\Rightarrow f'(x) = 0$\n",
    "\n",
    "$f(x) = x \\Rightarrow f'(x) = 1$\n",
    "\n",
    "$f(x) = nx \\Rightarrow f'(x) = n$\n",
    "\n",
    "$f(x) = x^n \\Rightarrow f'(x) = n.x^{n-1}$\n",
    "\n",
    "$[k.f(x)]' = k.f'(x)$\n",
    "\n",
    "$f(x) = \\cfrac{c}{x} = x^{-c} \\Rightarrow f'(x) = -x^{-c-1} = -\\cfrac{c}{x^{c+1}}$\n",
    "\n",
    "$f(x) = \\sqrt{x} = x^\\frac{1}{2} \\Rightarrow f'(x) = \\cfrac{1}{2}x^{-\\frac{1}{2}}$"
   ]
  },
  {
   "cell_type": "markdown",
   "metadata": {},
   "source": [
    "### Funções exponenciais e logarítmicas\n",
    "\n",
    "$f(x) = e^{x} \\Rightarrow f'(x) = e^{x}$\n",
    "\n",
    "$f(x) = \\log(x) \\Rightarrow f'(x) = \\cfrac{1}{x}$\n",
    "\n",
    "$f(x) = a^x \\Rightarrow f'(x) = a^x\\log(a)$"
   ]
  },
  {
   "cell_type": "markdown",
   "metadata": {},
   "source": [
    "### Regras de derivação\n",
    "\n",
    "**Derivada da soma**\n",
    "\n",
    "$(f(x) + g(x))' = f'(x) + g'(x)$\n",
    "\n",
    "**Derivada do produto**\n",
    "\n",
    "$(f(x).g(x))' = {f'(x).g(x) + f(x).g'(x)}$\n",
    "\n",
    "**Derivada do quociente**\n",
    "\n",
    "$\\bigg( \\cfrac{f(x)}{g(x)} \\bigg)' = \\cfrac{f'(x).g(x) + f(x).g'(x)}{g(x)^2}$\n",
    "\n",
    "**Regra da cadeia**\n",
    "\n",
    "$(f(g(x)))' = f'(g(x)).g'(x)$"
   ]
  },
  {
   "cell_type": "markdown",
   "metadata": {},
   "source": [
    "## Exemplos\n",
    "\n",
    "**Exemplo 1**\n",
    "\n",
    "$f(x) = x2$\n",
    "\n",
    "$f'(x) = 2x^{2-1} = 2x$"
   ]
  },
  {
   "cell_type": "code",
   "execution_count": 2,
   "metadata": {},
   "outputs": [
    {
     "data": {
      "image/png": "[encoded data removed]",
      "text/latex": [
       "$$2 x$$"
      ],
      "text/plain": [
       "2⋅x"
      ]
     },
     "metadata": {},
     "output_type": "display_data"
    }
   ],
   "source": [
    "def f(x): return x**2\n",
    "\n",
    "display(diff(f(x)))"
   ]
  },
  {
   "cell_type": "markdown",
   "metadata": {},
   "source": [
    "**Exemplo 2**\n",
    "\n",
    "$f(x) = {3x^8 + 5x}$\n",
    "\n",
    "$f'(x) = {8.3x^{8-1} + 5} = 24x^7 + 5$"
   ]
  },
  {
   "cell_type": "code",
   "execution_count": 3,
   "metadata": {},
   "outputs": [
    {
     "data": {
      "image/png": "[encoded data removed]",
      "text/latex": [
       "$$24 x^{7} + 5$$"
      ],
      "text/plain": [
       "    7    \n",
       "24⋅x  + 5"
      ]
     },
     "metadata": {},
     "output_type": "display_data"
    }
   ],
   "source": [
    "def f(x): return 3*x**8 + 5*x\n",
    "\n",
    "display(diff(f(x)))"
   ]
  },
  {
   "cell_type": "markdown",
   "metadata": {},
   "source": [
    "**Exemplo 3**\n",
    "\n",
    "$h(x) = {4x^7 + 6x^{-1} - 4x + 5}$\n",
    "\n",
    "$h'(x) = {7.4x^{7-1} + (-1).6x^{-2} - 4} = {28x^6 - 6x^{-2} - 4}$\n",
    "\n",
    "**Observação:** Repare que $6x^{-2}$ é igual a $\\cfrac{6}{x^2}$"
   ]
  },
  {
   "cell_type": "code",
   "execution_count": 4,
   "metadata": {},
   "outputs": [
    {
     "data": {
      "image/png": "[encoded data removed]",
      "text/latex": [
       "$$28 x^{6} - 4 - \\frac{6}{x^{2}}$$"
      ],
      "text/plain": [
       "    6       6 \n",
       "28⋅x  - 4 - ──\n",
       "             2\n",
       "            x "
      ]
     },
     "metadata": {},
     "output_type": "display_data"
    }
   ],
   "source": [
    "def h(x): return 4*x**7 + 6*x**-1 - 4*x + 5\n",
    "\n",
    "display(diff(h(x)))"
   ]
  },
  {
   "cell_type": "markdown",
   "metadata": {},
   "source": [
    "**Exemplo 4**\n",
    "\n",
    "$h(x) = \\cfrac{1}{x^5}$\n",
    "\n",
    "Para facilitar é possível realizar a alteração:\n",
    "\n",
    "$h(x) = {x^{-5}}$\n",
    "\n",
    "$h'(x) = {-5x^{-6}} = \\cfrac{-5}{x^6}$"
   ]
  },
  {
   "cell_type": "code",
   "execution_count": 5,
   "metadata": {},
   "outputs": [
    {
     "data": {
      "image/png": "[encoded data removed]",
      "text/latex": [
       "$$- \\frac{5}{x^{6}}$$"
      ],
      "text/plain": [
       "-5 \n",
       "───\n",
       "  6\n",
       " x "
      ]
     },
     "metadata": {},
     "output_type": "display_data"
    }
   ],
   "source": [
    "def h(x): return 1 / x**5\n",
    "\n",
    "display(diff(h(x)))"
   ]
  },
  {
   "cell_type": "markdown",
   "metadata": {},
   "source": [
    "**Exemplo 5: Modelagem da receita**\n",
    "\n",
    "De 2004 a 2009, a receita R (em milhões de dólares) do McDonald's pode ser modelada por:\n",
    "\n",
    "$R(t) = -130,769t^3 + 2296,47t^2 - 11493,5t + 35493; \\\\ 4 \\leq t \\leq 9$ \n",
    "\n",
    "em que $t$ representa o ano e $t=4$ corresponde a 2004.\n",
    "\n",
    "Qual foi a taxa de variação da receita do McDonald's em 2006?\n",
    "\n",
    "$\\small Créditos: LARSON, RON. Cálculo Aplicado-Curso Rápido. São Paulo: Cengage Learning. 2016. Página 96.$\n",
    "\n",
    "**Solução:**\n",
    "Uma maneira de responder a essa questão é determinar a derivada do modelo da receita em relação ao tempo:\n",
    "\n",
    "$R'(t) = -392,307t^2 + 4592,94t - 11493,5$\n",
    "\n",
    "$R'(6) = -392,307.(6^2) + 4592,94.(6) - 11493,5$\n",
    "\n",
    "$R'(6) = -14123,052 + 27557,64 - 11493,5$\n",
    "\n",
    "$R'(6) = 1941,088$\n",
    "\n",
    "Ao final de 2006, a receita estava aumentando a uma taxa de U$1941 milhões por ano."
   ]
  },
  {
   "cell_type": "code",
   "execution_count": 6,
   "metadata": {},
   "outputs": [
    {
     "data": {
      "image/png": "[encoded data removed]",
      "text/latex": [
       "$$R'(t) = - 392.307 t^{2} + 4592.94 t - 11493.5$$"
      ],
      "text/plain": [
       "                   2                      \n",
       "R'(t) = - 392.307⋅t  + 4592.94⋅t - 11493.5"
      ]
     },
     "metadata": {},
     "output_type": "display_data"
    }
   ],
   "source": [
    "def R(t): return -130.769*t**3 + 2296.47*t**2 - 11493.5*t + 35493\n",
    "\n",
    "display(Eq(Symbol('R\\'(t)'), diff(R(t))))"
   ]
  }
 ],
 "metadata": {
  "kernelspec": {
   "display_name": "Python 3",
   "language": "python",
   "name": "python3"
  },
  "language_info": {
   "codemirror_mode": {
    "name": "ipython",
    "version": 3
   },
   "file_extension": ".py",
   "mimetype": "text/x-python",
   "name": "python",
   "nbconvert_exporter": "python",
   "pygments_lexer": "ipython3",
   "version": "3.7.1"
  }
 },
 "nbformat": 4,
 "nbformat_minor": 2
}
