{
 "cells": [
  {
   "cell_type": "code",
   "execution_count": 1,
   "metadata": {},
   "outputs": [],
   "source": [
    "import numpy as np\n",
    "import matplotlib.pyplot as plt\n",
    "import math\n",
    "from sympy import *\n",
    "\n",
    "\n",
    "init_printing(use_latex=True)"
   ]
  },
  {
   "cell_type": "markdown",
   "metadata": {},
   "source": [
    "# Derivadas\n",
    "\n",
    "### Funções simples\n",
    "\n",
    "$f(x) = k \\Rightarrow f'(x) = 0$\n",
    "\n",
    "$f(x) = x \\Rightarrow f'(x) = 1$\n",
    "\n",
    "$f(x) = nx \\Rightarrow f'(x) = n$\n",
    "\n",
    "$f(x) = x^n \\Rightarrow f'(x) = n.x^{n-1}$\n",
    "\n",
    "$[k.f(x)]' = k.f'(x)$\n",
    "\n",
    "$f(x) = \\cfrac{c}{x} = x^{-c} \\Rightarrow f'(x) = -x^{-c-1} = -\\cfrac{c}{x^{c+1}}$\n",
    "\n",
    "$f(x) = \\sqrt{x} = x^\\frac{1}{2} \\Rightarrow f'(x) = \\cfrac{1}{2\\sqrt{x}}$"
   ]
  },
  {
   "cell_type": "markdown",
   "metadata": {},
   "source": [
    "### Funções exponenciais e logarítmicas\n",
    "\n",
    "$f(x) = e^{x} \\Rightarrow f'(x) = e^{x}$\n",
    "\n",
    "$f(x) = \\log(x) \\Rightarrow f'(x) = \\cfrac{1}{x}$\n",
    "\n",
    "$f(x) = a^x \\Rightarrow f'(x) = a^x\\log(a)$"
   ]
  },
  {
   "cell_type": "markdown",
   "metadata": {},
   "source": [
    "### Regras de derivação\n",
    "\n",
    "**Derivada da soma**\n",
    "\n",
    "$(f(x) + g(x))' = f'(x) + g'(x)$\n",
    "\n",
    "**Derivada do produto**\n",
    "\n",
    "$(f(x).g(x))' = {f'(x).g(x) + f(x).g'(x)}$\n",
    "\n",
    "**Derivada do quociente**\n",
    "\n",
    "$\\bigg( \\cfrac{f(x)}{g(x)} \\bigg)' = \\cfrac{f'(x).g(x) - f(x).g'(x)}{g(x)^2}$\n",
    "\n",
    "**Regra da cadeia**\n",
    "\n",
    "$(f(g(x)))' = f'(g(x)).g'(x)$"
   ]
  },
  {
   "cell_type": "markdown",
   "metadata": {},
   "source": [
    "## Exemplos\n",
    "\n",
    "**Exemplo 1**\n",
    "\n",
    "$f(x) = x2$\n",
    "\n",
    "$f'(x) = 2x^{2-1} = 2x$"
   ]
  },
  {
   "cell_type": "code",
   "execution_count": 2,
   "metadata": {},
   "outputs": [
    {
     "data": {
      "image/png": "[encoded data removed]",
      "text/latex": [
       "$$2 x$$"
      ],
      "text/plain": [
       "2⋅x"
      ]
     },
     "metadata": {},
     "output_type": "display_data"
    }
   ],
   "source": [
    "x = Symbol('x')\n",
    "\n",
    "def f(x): return x**2\n",
    "\n",
    "display(diff(f(x)))"
   ]
  },
  {
   "cell_type": "markdown",
   "metadata": {},
   "source": [
    "**Exemplo 2**\n",
    "\n",
    "$f(x) = {3x^8 + 5x}$\n",
    "\n",
    "$f'(x) = {8.3x^{8-1} + 5} = 24x^7 + 5$"
   ]
  },
  {
   "cell_type": "code",
   "execution_count": 3,
   "metadata": {},
   "outputs": [
    {
     "data": {
      "image/png": "[encoded data removed]",
      "text/latex": [
       "$$24 x^{7} + 5$$"
      ],
      "text/plain": [
       "    7    \n",
       "24⋅x  + 5"
      ]
     },
     "metadata": {},
     "output_type": "display_data"
    }
   ],
   "source": [
    "x = Symbol('x')\n",
    "\n",
    "def f(x): return 3*x**8 + 5*x\n",
    "\n",
    "display(diff(f(x)))"
   ]
  },
  {
   "cell_type": "markdown",
   "metadata": {},
   "source": [
    "**Exemplo 3**\n",
    "\n",
    "$h(x) = {4x^7 + 6x^{-1} - 4x + 5}$\n",
    "\n",
    "$h'(x) = {7.4x^{7-1} + (-1).6x^{-2} - 4} = {28x^6 - 6x^{-2} - 4}$\n",
    "\n",
    "**Observação:** Repare que $6x^{-2}$ é igual a $\\cfrac{6}{x^2}$"
   ]
  },
  {
   "cell_type": "code",
   "execution_count": 4,
   "metadata": {},
   "outputs": [
    {
     "data": {
      "image/png": "[encoded data removed]",
      "text/latex": [
       "$$28 x^{6} - 4 - \\frac{6}{x^{2}}$$"
      ],
      "text/plain": [
       "    6       6 \n",
       "28⋅x  - 4 - ──\n",
       "             2\n",
       "            x "
      ]
     },
     "metadata": {},
     "output_type": "display_data"
    }
   ],
   "source": [
    "x = Symbol('x')\n",
    "\n",
    "def h(x): return 4*x**7 + 6*x**-1 - 4*x + 5\n",
    "\n",
    "display(diff(h(x)))"
   ]
  },
  {
   "cell_type": "markdown",
   "metadata": {},
   "source": [
    "**Exemplo 4**\n",
    "\n",
    "$h(x) = \\cfrac{1}{x^5}$\n",
    "\n",
    "Para facilitar é possível realizar a alteração:\n",
    "\n",
    "$h(x) = {x^{-5}}$\n",
    "\n",
    "$h'(x) = {-5x^{-6}} = \\cfrac{-5}{x^6}$"
   ]
  },
  {
   "cell_type": "code",
   "execution_count": 5,
   "metadata": {},
   "outputs": [
    {
     "data": {
      "image/png": "[encoded data removed]",
      "text/latex": [
       "$$- \\frac{5}{x^{6}}$$"
      ],
      "text/plain": [
       "-5 \n",
       "───\n",
       "  6\n",
       " x "
      ]
     },
     "metadata": {},
     "output_type": "display_data"
    }
   ],
   "source": [
    "x = Symbol('x')\n",
    "\n",
    "def h(x): return 1 / x**5\n",
    "\n",
    "display(diff(h(x)))"
   ]
  },
  {
   "cell_type": "markdown",
   "metadata": {},
   "source": [
    "**Exemplo 5**\n",
    "\n",
    "$f(x) = {(x^2 - 5)}{(x^3 - 2x + 3)}$\n",
    "\n",
    "Para resolver esta derivada, utiliza-se a regra do produto.\n",
    "$f(x) = uv \\Rightarrow f'(x) = u'v+uv'$\n",
    "\n",
    "$f'(x) = {2x(x^3 - 2x + 3)} + {(x^2 - 5)(3x^2 - 2)}$\n",
    "\n",
    "$f'(x) = {(2x^4 - 4x^2 + 6x)} + {(3x^4 - 2x^2 - 15x^2 + 10)}$\n",
    "\n",
    "$f'(x) = {5x^4 - 21x^2 + 6x + 10}$\n"
   ]
  },
  {
   "cell_type": "code",
   "execution_count": 6,
   "metadata": {},
   "outputs": [
    {
     "data": {
      "image/png": "[encoded data removed]",
      "text/latex": [
       "$$f'(x) = 2 x \\left(x^{3} - 2 x + 3\\right) + \\left(x^{2} - 5\\right) \\left(3 x^{2} - 2\\right)$$"
      ],
      "text/plain": [
       "            ⎛ 3          ⎞   ⎛ 2    ⎞ ⎛   2    ⎞\n",
       "f'(x) = 2⋅x⋅⎝x  - 2⋅x + 3⎠ + ⎝x  - 5⎠⋅⎝3⋅x  - 2⎠"
      ]
     },
     "metadata": {},
     "output_type": "display_data"
    },
    {
     "name": "stdout",
     "output_type": "stream",
     "text": [
      "Simplificando o resultado:\n"
     ]
    },
    {
     "data": {
      "image/png": "[encoded data removed]",
      "text/latex": [
       "$$f'(x) = 5 x^{4} - 21 x^{2} + 6 x + 10$$"
      ],
      "text/plain": [
       "           4       2           \n",
       "f'(x) = 5⋅x  - 21⋅x  + 6⋅x + 10"
      ]
     },
     "metadata": {},
     "output_type": "display_data"
    }
   ],
   "source": [
    "x = Symbol('x')\n",
    "\n",
    "def f(x): return (x**2 - 5) * (x**3 - 2*x + 3)\n",
    "\n",
    "derivada = diff(f(x))\n",
    "\n",
    "display(Eq(Symbol('f\\'(x)'), derivada))\n",
    "print('Simplificando o resultado:')\n",
    "display(Eq(Symbol('f\\'(x)'), simplify(derivada)))"
   ]
  },
  {
   "cell_type": "markdown",
   "metadata": {},
   "source": [
    "**Exemplo 6**\n",
    "\n",
    "$f(x) = \\cfrac{x^2 + 1}{5x - 3}$\n",
    "\n",
    "Para a resolução desta derivada, é necessário utilizar a regra do quociente:\n",
    "$f(x) = \\cfrac{u}{v} \\Rightarrow f'(x) = \\cfrac{u'v - uv'}{v^2}$\n",
    "\n",
    "$f'(x) = \\cfrac{2x(5x-3) - (x^2 + 1)(5)}{(5x - 3)^2}$\n",
    "\n",
    "$f'(x) = \\cfrac{10x^2 - 6x - 5x^2 + 5}{(5x - 3)^2}$\n",
    "\n",
    "$f'(x) = \\cfrac{5x^2 - 6x - 5}{(5x - 3)^2} = \\cfrac{2x}{5x - 3} - \\cfrac{5(x^2 + 1)}{(5x - 3)^2}$"
   ]
  },
  {
   "cell_type": "code",
   "execution_count": 7,
   "metadata": {},
   "outputs": [
    {
     "data": {
      "image/png": "[encoded data removed]",
      "text/latex": [
       "$$\\frac{2 x}{5 x - 3} - \\frac{5 \\left(x^{2} + 1\\right)}{\\left(5 x - 3\\right)^{2}}$$"
      ],
      "text/plain": [
       "            ⎛ 2    ⎞\n",
       "  2⋅x     5⋅⎝x  + 1⎠\n",
       "─────── - ──────────\n",
       "5⋅x - 3            2\n",
       "          (5⋅x - 3) "
      ]
     },
     "metadata": {},
     "output_type": "display_data"
    },
    {
     "data": {
      "image/png": "[encoded data removed]",
      "text/latex": [
       "$$\\frac{5 x^{2} - 6 x - 5}{25 x^{2} - 30 x + 9}$$"
      ],
      "text/plain": [
       "    2           \n",
       " 5⋅x  - 6⋅x - 5 \n",
       "────────────────\n",
       "    2           \n",
       "25⋅x  - 30⋅x + 9"
      ]
     },
     "metadata": {},
     "output_type": "display_data"
    }
   ],
   "source": [
    "x = Symbol('x')\n",
    "\n",
    "def f(x): return (x**2 + 1) / (5*x - 3)\n",
    "\n",
    "display(diff(f(x)))\n",
    "\n",
    "display(simplify(diff(f(x))))"
   ]
  },
  {
   "cell_type": "markdown",
   "metadata": {},
   "source": [
    "**Exemplo 7**\n",
    "\n",
    "$f(x) = \\cfrac{x - \\sqrt{x}}{5x^2 - 3}$\n",
    "\n",
    "Neste exemplo, além da regra de derivação de quociente, também é aplicada a regra de raiz quadrada:\n",
    "$f(x) = \\sqrt{x} \\Rightarrow f'(x) = \\cfrac{1}{2 \\sqrt{x}}$\n",
    "\n",
    "$f'(x) = \\cfrac{\\big(1 - \\frac{1}{2 \\sqrt{x}}\\big)\\big(5x^2 - 3\\big) - (x - \\sqrt{x})10x}{(5x^2 - 3)^2}$\n",
    "\n",
    "$f'(x) = \\cfrac{1 - \\frac{1}{2 \\sqrt{x}}}{5x^2 - 3} - \\cfrac{10x(x - \\sqrt{x})}{(5x^2 - 3)^2}$"
   ]
  },
  {
   "cell_type": "code",
   "execution_count": 8,
   "metadata": {},
   "outputs": [
    {
     "data": {
      "image/png": "[encoded data removed]",
      "text/latex": [
       "$$- \\frac{10 x \\left(- \\sqrt{x} + x\\right)}{\\left(5 x^{2} - 3\\right)^{2}} + \\frac{1 - \\frac{1}{2 \\sqrt{x}}}{5 x^{2} - 3}$$"
      ],
      "text/plain": [
       "                        1  \n",
       "                   1 - ────\n",
       "  10⋅x⋅(-√x + x)       2⋅√x\n",
       "- ────────────── + ────────\n",
       "             2        2    \n",
       "   ⎛   2    ⎞      5⋅x  - 3\n",
       "   ⎝5⋅x  - 3⎠              "
      ]
     },
     "metadata": {},
     "output_type": "display_data"
    },
    {
     "data": {
      "image/png": "[encoded data removed]",
      "text/latex": [
       "$$\\frac{- 10 x^{\\frac{5}{2}} - 6 \\sqrt{x} + 15 x^{2} + 3}{2 \\sqrt{x} \\left(25 x^{4} - 30 x^{2} + 9\\right)}$$"
      ],
      "text/plain": [
       "      5/2              2    \n",
       "- 10⋅x    - 6⋅√x + 15⋅x  + 3\n",
       "────────────────────────────\n",
       "       ⎛    4       2    ⎞  \n",
       "  2⋅√x⋅⎝25⋅x  - 30⋅x  + 9⎠  "
      ]
     },
     "metadata": {},
     "output_type": "display_data"
    }
   ],
   "source": [
    "x = Symbol('x')\n",
    "\n",
    "def f(x): return (x - sqrt(x)) / (5*x**2 - 3)\n",
    "\n",
    "display(diff(f(x)))\n",
    "\n",
    "display(simplify(diff(f(x))))"
   ]
  },
  {
   "cell_type": "markdown",
   "metadata": {},
   "source": [
    "**Exemplo 8: Modelagem da receita**\n",
    "\n",
    "De 2004 a 2009, a receita R (em milhões de dólares) da empresa McDonald's pode ser modelada por:\n",
    "\n",
    "$R(t) = -130,769t^3 + 2296,47t^2 - 11493,5t + 35493; \\\\ 4 \\leq t \\leq 9$ \n",
    "\n",
    "em que $t$ representa o ano e $t=4$ corresponde a 2004.\n",
    "\n",
    "Qual foi a taxa de variação da receita do McDonald's em 2006?\n",
    "\n",
    "$\\small Créditos: LARSON, RON. Cálculo Aplicado-Curso Rápido. São Paulo: Cengage Learning. 2016. Página 96.$\n",
    "\n",
    "**Solução:**\n",
    "Uma maneira de responder a essa questão é determinar a derivada do modelo da receita em relação ao tempo:\n",
    "\n",
    "$R'(t) = -392,307t^2 + 4592,94t - 11493,5$\n",
    "\n",
    "$R'(6) = -392,307.(6^2) + 4592,94.(6) - 11493,5$\n",
    "\n",
    "$R'(6) = -14123,052 + 27557,64 - 11493,5$\n",
    "\n",
    "$R'(6) = 1941,088$\n",
    "\n",
    "Em 2006, a receita estava aumentando a uma taxa de $\\pm$ U$1,94 bilhões por ano."
   ]
  },
  {
   "cell_type": "code",
   "execution_count": 9,
   "metadata": {},
   "outputs": [
    {
     "data": {
      "image/png": "[encoded data removed]",
      "text/latex": [
       "$$R'(t) = - 392.307 t^{2} + 4592.94 t - 11493.5$$"
      ],
      "text/plain": [
       "                   2                      \n",
       "R'(t) = - 392.307⋅t  + 4592.94⋅t - 11493.5"
      ]
     },
     "metadata": {},
     "output_type": "display_data"
    },
    {
     "data": {
      "image/png": "[encoded data removed]",
      "text/latex": [
       "$$R'(6) = 1941.088$$"
      ],
      "text/plain": [
       "R'(6) = 1941.088"
      ]
     },
     "metadata": {},
     "output_type": "display_data"
    },
    {
     "data": {
      "image/png": "[encoded data removed]",
      "text/plain": [
       "<Figure size 432x288 with 1 Axes>"
      ]
     },
     "metadata": {
      "needs_background": "light"
     },
     "output_type": "display_data"
    }
   ],
   "source": [
    "t = Symbol('t')\n",
    "\n",
    "def R(t): return -130.769*t**3 + 2296.47*t**2 - 11493.5*t + 35493\n",
    "\n",
    "expr = diff(R(t))\n",
    "\n",
    "display(Eq(Symbol('R\\'(t)'), expr))\n",
    "display(Eq(Symbol('R\\'(6)'), expr.subs(t, 6)))\n",
    "\n",
    "x = np.linspace(2004, 2009, 50)\n",
    "y = [expr.subs(t, (y-2000)) for y in x]\n",
    "\n",
    "plt.title('Variação da receita')\n",
    "plt.ylabel('Milhões de dólares')\n",
    "plt.plot(x, y)\n",
    "\n",
    "plt.show()"
   ]
  },
  {
   "cell_type": "markdown",
   "metadata": {},
   "source": [
    "**Exemplo 9**\n",
    "\n",
    "A altitude (em pés) de um foguete alcançada após $t$ segundos em voo é dada por:\n",
    "\n",
    "$S = f(t) = -t^3 + 96t^2 + 195t + 5; \\\\t \\geq 0$\n",
    "\n",
    "Determine uma expressão para a velocidade $v$ do foguete em qualquer tempo $t$.\n",
    "\n",
    "Velocidade: $v = f'(t) = -3t^2 + 192t + 195$\n",
    "\n",
    "Com esta derivada, é possível calcular a velocidade do foguete aos 30 segundos de voo, por exemplo.\n",
    "\n",
    "$t = 30$\n",
    "\n",
    "$v(30) = -3(30)^2 + 192(30) + 195$\n",
    "\n",
    "$v(30) = -2700 + 5760 + 195$\n",
    "\n",
    "$v(30) = 3255 \\; pés/segundo$"
   ]
  },
  {
   "cell_type": "code",
   "execution_count": 10,
   "metadata": {},
   "outputs": [
    {
     "data": {
      "image/png": "[encoded data removed]",
      "text/latex": [
       "$$v(30) = 3255$$"
      ],
      "text/plain": [
       "v(30) = 3255"
      ]
     },
     "metadata": {},
     "output_type": "display_data"
    },
    {
     "data": {
      "image/png": "[encoded data removed]",
      "text/plain": [
       "<Figure size 432x288 with 1 Axes>"
      ]
     },
     "metadata": {
      "needs_background": "light"
     },
     "output_type": "display_data"
    }
   ],
   "source": [
    "t = Symbol('t')\n",
    "\n",
    "def f(t): return -t**3 + 96*t**2 + 195*t + 5\n",
    "\n",
    "expr = diff(f(t))\n",
    "\n",
    "display(Eq(Symbol('v(30)'), expr.subs(t, 30)))\n",
    "\n",
    "x = np.linspace(0, 60, 30)\n",
    "y = [expr.subs(t, s) for s in x]\n",
    "\n",
    "plt.title('Variação de velocidade do foguete')\n",
    "plt.xlabel('Segundo')\n",
    "plt.ylabel('Velocidade')\n",
    "plt.plot(x, y)\n",
    "\n",
    "plt.show()"
   ]
  },
  {
   "cell_type": "markdown",
   "metadata": {},
   "source": [
    "Determine a aceleração do foguete 50 segundos após seu lançamento.\n",
    "\n",
    "$a = v'(t) = f''(t)$\n",
    "\n",
    "$a = -6t + 192$\n",
    "\n",
    "$a(50) = -6(50) + 192$\n",
    "\n",
    "$a(50) = -108 \\; pés/s^2$"
   ]
  },
  {
   "cell_type": "code",
   "execution_count": 11,
   "metadata": {},
   "outputs": [
    {
     "data": {
      "image/png": "[encoded data removed]",
      "text/latex": [
       "$$a(50) = -108$$"
      ],
      "text/plain": [
       "a(50) = -108"
      ]
     },
     "metadata": {},
     "output_type": "display_data"
    },
    {
     "data": {
      "image/png": "[encoded data removed]",
      "text/plain": [
       "<Figure size 432x288 with 1 Axes>"
      ]
     },
     "metadata": {
      "needs_background": "light"
     },
     "output_type": "display_data"
    }
   ],
   "source": [
    "t = Symbol('t')\n",
    "\n",
    "expr = Derivative(f(t), t, 2).doit()\n",
    "\n",
    "display(Eq(Symbol('a(50)'), expr.subs(t, 50)))\n",
    "\n",
    "x = np.linspace(0, 60, 30)\n",
    "y = [expr.subs(t, s) for s in x]\n",
    "\n",
    "plt.title('Variação de aceleração do foguete')\n",
    "plt.xlabel('Segundo²')\n",
    "plt.ylabel('Aceleração')\n",
    "plt.plot(x, y)\n",
    "\n",
    "plt.show()"
   ]
  },
  {
   "cell_type": "markdown",
   "metadata": {},
   "source": [
    "**Exemplo 10**\n",
    "\n",
    "$f(x) = x^2 + 2x + 1$\n",
    "\n",
    "$f'(x) = 2x + 2$"
   ]
  },
  {
   "cell_type": "markdown",
   "metadata": {},
   "source": [
    "**Exemplo 11**\n",
    "\n",
    "$f(x) = 4x^3 - 3x^2 + 2x - 1$\n",
    "\n",
    "$f'(x) + 12x^2 - 6x + 2$"
   ]
  },
  {
   "cell_type": "markdown",
   "metadata": {},
   "source": [
    "**Exemplo 13**\n",
    "\n",
    "$f(x) = (x^3 + 7x^2 - x + 1)^4$\n",
    "\n",
    "Aplicando a regra da cadeia:\n",
    "\n",
    "$h(g(x)) = (g(x))^4$\n",
    "\n",
    "$g(x) = x^3 + 7x^2 - x + 1$\n",
    "\n",
    "$f'(x) = h'(g(x)).g'(x)$\n",
    "\n",
    "$f'(x) = 4(x^3 + 7x^2 - x + 1)^3.(3x^2 + 14x - 1)$\n",
    "\n",
    "$f'(x) = (12x^2 + 56x -4)(x^3 + 7x^2 - x + 1)^3$\n"
   ]
  },
  {
   "cell_type": "code",
   "execution_count": 12,
   "metadata": {},
   "outputs": [
    {
     "data": {
      "image/png": "[encoded data removed]",
      "text/latex": [
       "$$\\left(12 x^{2} + 56 x - 4\\right) \\left(x^{3} + 7 x^{2} - x + 1\\right)^{3}$$"
      ],
      "text/plain": [
       "                                      3\n",
       "⎛    2           ⎞ ⎛ 3      2        ⎞ \n",
       "⎝12⋅x  + 56⋅x - 4⎠⋅⎝x  + 7⋅x  - x + 1⎠ "
      ]
     },
     "metadata": {},
     "output_type": "display_data"
    }
   ],
   "source": [
    "x = Symbol('x')\n",
    "\n",
    "def f(x): return (x**3 + 7*x**2 - x + 1)**4\n",
    "\n",
    "display(Derivative(f(x), x, 1).doit())"
   ]
  },
  {
   "cell_type": "markdown",
   "metadata": {},
   "source": [
    "**Exemplo 14**\n",
    "\n",
    "$f(x) = ln(2x + 4)$\n",
    "\n",
    "Aplicando a regra da cadeia:\n",
    "\n",
    "$h(g(x)) = ln(g(x))$\n",
    "\n",
    "$g(x) = 2x + 4$\n",
    "\n",
    "$f'(x) = \\cfrac{1}{2x + 4} \\;.\\; 2$\n",
    "\n",
    "$f'(x) = \\cfrac{2}{2x + 4}$ ou simplificando: $f'(x) = \\cfrac{1}{x + 2}$"
   ]
  },
  {
   "cell_type": "code",
   "execution_count": 17,
   "metadata": {},
   "outputs": [
    {
     "data": {
      "image/png": "[encoded data removed]",
      "text/latex": [
       "$$\\frac{2}{2 x + 4}$$"
      ],
      "text/plain": [
       "   2   \n",
       "───────\n",
       "2⋅x + 4"
      ]
     },
     "metadata": {},
     "output_type": "display_data"
    },
    {
     "name": "stdout",
     "output_type": "stream",
     "text": [
      "Simplificando:\n"
     ]
    },
    {
     "data": {
      "image/png": "[encoded data removed]",
      "text/latex": [
       "$$\\frac{1}{x + 2}$$"
      ],
      "text/plain": [
       "  1  \n",
       "─────\n",
       "x + 2"
      ]
     },
     "metadata": {},
     "output_type": "display_data"
    }
   ],
   "source": [
    "x = Symbol('x')\n",
    "\n",
    "def f(x): return log(2*x + 4)\n",
    "\n",
    "display(Derivative(f(x), x, 1).doit())\n",
    "print('Simplificando:')\n",
    "display(simplify(Derivative(f(x), x, 1).doit()))"
   ]
  },
  {
   "cell_type": "markdown",
   "metadata": {},
   "source": [
    "**Exemplo 15**\n",
    "\n",
    "$f(x) = sen\\;(x^2)$\n",
    "\n",
    "Aplicando regra da cadeira:\n",
    "\n",
    "$f'(x) = 2x\\;cos\\;(x^2)$"
   ]
  },
  {
   "cell_type": "code",
   "execution_count": 14,
   "metadata": {},
   "outputs": [
    {
     "data": {
      "image/png": "[encoded data removed]",
      "text/latex": [
       "$$2 x \\cos{\\left (x^{2} \\right )}$$"
      ],
      "text/plain": [
       "       ⎛ 2⎞\n",
       "2⋅x⋅cos⎝x ⎠"
      ]
     },
     "metadata": {},
     "output_type": "display_data"
    }
   ],
   "source": [
    "x = Symbol('x')\n",
    "\n",
    "def f(x): return sin(x**2)\n",
    "\n",
    "display(Derivative(f(x), x, 1).doit())"
   ]
  }
 ],
 "metadata": {
  "kernelspec": {
   "display_name": "Python 3",
   "language": "python",
   "name": "python3"
  },
  "language_info": {
   "codemirror_mode": {
    "name": "ipython",
    "version": 3
   },
   "file_extension": ".py",
   "mimetype": "text/x-python",
   "name": "python",
   "nbconvert_exporter": "python",
   "pygments_lexer": "ipython3",
   "version": "3.7.1"
  }
 },
 "nbformat": 4,
 "nbformat_minor": 2
}
