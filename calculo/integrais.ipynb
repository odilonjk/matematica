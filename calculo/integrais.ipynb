{
 "cells": [
  {
   "cell_type": "code",
   "execution_count": 1,
   "metadata": {},
   "outputs": [],
   "source": [
    "import numpy as np\n",
    "from sympy import *\n",
    "\n",
    "\n",
    "init_printing(use_latex=True)\n",
    "\n",
    "x = Symbol('x')"
   ]
  },
  {
   "cell_type": "markdown",
   "metadata": {},
   "source": [
    "# Integrais\n",
    "\n",
    "### Notação\n",
    "\n",
    "$\\displaystyle \\int{f(x)\\;dx = F(x) + C}$"
   ]
  },
  {
   "cell_type": "markdown",
   "metadata": {},
   "source": [
    "### Tabela de integrais\n",
    "\n",
    "$\\displaystyle \\int{x^n\\;dx} = \\cfrac{x^{n+1}}{n+1} + C, \\;n \\ne -1$\n",
    "\n",
    "---\n",
    "\n",
    "$\\displaystyle \\int{1\\;dx} = x + C$\n",
    "\n",
    "---\n",
    "\n",
    "$\\displaystyle \\int{k\\;dx} = kx + C$\n",
    "\n",
    "---\n",
    "\n",
    "$\\displaystyle \\int{\\cfrac{1}{x}\\;dx} = ln|x| + C$\n",
    "\n",
    "---\n",
    "\n",
    "$\\displaystyle \\int{e^x\\;dx} = e^x + C$\n",
    "\n",
    "---\n",
    "\n",
    "$\\displaystyle \\int{sen\\;x\\;dx} = -cos\\;x + C$\n",
    "\n",
    "---\n",
    "\n",
    "$\\displaystyle \\int{cos\\;x\\;dx} = sen\\;x + C$\n",
    "\n",
    "---\n",
    "\n",
    "$\\displaystyle \\int{k.f(x)\\;dx} = k\\int{f(x)\\;dx}$\n",
    "\n",
    "---\n",
    "\n",
    "$\\displaystyle \\int{[f(x) \\pm g(x)]\\;dx} = \\int{f(x)\\;dx} \\pm \\int{g(x)\\;dx}$\n"
   ]
  },
  {
   "cell_type": "markdown",
   "metadata": {},
   "source": [
    "## Exemplos\n",
    "\n",
    "**Exemplo 1**\n",
    "\n",
    "$\\displaystyle \\int{(4x^3 - 5x -2)\\;dx} =$\n",
    "\n",
    "$\\displaystyle \\int{4x^3\\;dx} - \\int{5x\\;dx} - \\int{2\\;dx} =$\n",
    "\n",
    "$\\displaystyle 4\\int{x^3\\;dx} - 5\\int{x\\;dx} - 2\\int{1\\;dx} =$\n",
    "\n",
    "$\\displaystyle 4\\frac{x^4}{4} - 5\\frac{x^2}{2} - 2x + C$"
   ]
  },
  {
   "cell_type": "code",
   "execution_count": 2,
   "metadata": {},
   "outputs": [
    {
     "data": {
      "image/png": "[encoded data removed]",
      "text/latex": [
       "$$x^{4} - \\frac{5 x^{2}}{2} - 2 x$$"
      ],
      "text/plain": [
       "        2      \n",
       " 4   5⋅x       \n",
       "x  - ──── - 2⋅x\n",
       "      2        "
      ]
     },
     "metadata": {},
     "output_type": "display_data"
    }
   ],
   "source": [
    "display(integrate(4*x**3 - 5*x - 2))"
   ]
  },
  {
   "cell_type": "markdown",
   "metadata": {},
   "source": [
    "---\n",
    "\n",
    "**Exemplo 2**\n",
    "\n",
    "$\\displaystyle \\int{\\sqrt{x}\\;dx} = $\n",
    "$\\displaystyle \\int{x^{1/2}\\;dx} = $\n",
    "\n",
    "$\\displaystyle \\frac{x^{\\frac{3}{2}}}{\\frac{3}{2}} + C = \\frac{2}{3}.x^{\\frac{3}{2}} + C$\n",
    "---"
   ]
  },
  {
   "cell_type": "code",
   "execution_count": 3,
   "metadata": {},
   "outputs": [
    {
     "data": {
      "image/png": "[encoded data removed]",
      "text/latex": [
       "$$\\frac{2 x^{\\frac{3}{2}}}{3}$$"
      ],
      "text/plain": [
       "   3/2\n",
       "2⋅x   \n",
       "──────\n",
       "  3   "
      ]
     },
     "metadata": {},
     "output_type": "display_data"
    }
   ],
   "source": [
    "display(integrate(sqrt(x)))"
   ]
  },
  {
   "cell_type": "markdown",
   "metadata": {},
   "source": [
    "---\n",
    "\n",
    "**Exemplo 3**\n",
    "\n",
    "$\\displaystyle \\int{\\bigg[\\cfrac{1}{x^2} - 3x^4 + 1\\bigg]} \\;dx =$\n",
    "\n",
    "$\\displaystyle \\int{x^{-2}\\;dx} - 3\\int{x^4\\;dx} + \\int{1\\;dx}=$\n",
    "\n",
    "$\\displaystyle \\frac{x^{-1}}{-1} - 3\\cfrac{x^5}{5} + x + C$"
   ]
  },
  {
   "cell_type": "code",
   "execution_count": 4,
   "metadata": {},
   "outputs": [
    {
     "data": {
      "image/png": "[encoded data removed]",
      "text/latex": [
       "$$- \\frac{3 x^{5}}{5} + x - \\frac{1}{x}$$"
      ],
      "text/plain": [
       "     5        \n",
       "  3⋅x        1\n",
       "- ──── + x - ─\n",
       "   5         x"
      ]
     },
     "metadata": {},
     "output_type": "display_data"
    }
   ],
   "source": [
    "display(integrate(1/x**2 - 3*x**4 + 1))"
   ]
  },
  {
   "cell_type": "markdown",
   "metadata": {},
   "source": [
    "---\n",
    "\n",
    "**Exemplo 4**\n",
    "\n",
    "$\\displaystyle \\int{\\frac{-5}{x}\\;dx} =$\n",
    "$\\displaystyle -5\\int{\\frac{1}{x}\\;dx} =$\n",
    "$\\displaystyle -5\\;log|x| + C$"
   ]
  },
  {
   "cell_type": "code",
   "execution_count": 5,
   "metadata": {},
   "outputs": [
    {
     "data": {
      "image/png": "[encoded data removed]",
      "text/latex": [
       "$$- 5 \\log{\\left (x \\right )}$$"
      ],
      "text/plain": [
       "-5⋅log(x)"
      ]
     },
     "metadata": {},
     "output_type": "display_data"
    }
   ],
   "source": [
    "display(integrate(-5/x))"
   ]
  },
  {
   "cell_type": "markdown",
   "metadata": {},
   "source": [
    "---\n",
    "\n",
    "**Exemplo 5**\n",
    "\n",
    "$\\displaystyle \\int{(7\\;cos\\;x + 12e^x)\\;dx} =$\n",
    "\n",
    "$\\displaystyle 7\\int{cos\\;x\\;dx} + 12\\int{e^x\\;dx} =$\n",
    "\n",
    "$\\displaystyle 7\\;sen\\;x + 12e^x + C$"
   ]
  },
  {
   "cell_type": "code",
   "execution_count": 6,
   "metadata": {},
   "outputs": [
    {
     "data": {
      "image/png": "[encoded data removed]",
      "text/latex": [
       "$$12 e^{x} + 7 \\sin{\\left (x \\right )}$$"
      ],
      "text/plain": [
       "    x           \n",
       "12⋅ℯ  + 7⋅sin(x)"
      ]
     },
     "metadata": {},
     "output_type": "display_data"
    }
   ],
   "source": [
    "display(integrate(7*cos(x) + 12*exp(x)))"
   ]
  }
 ],
 "metadata": {
  "kernelspec": {
   "display_name": "Python 3",
   "language": "python",
   "name": "python3"
  },
  "language_info": {
   "codemirror_mode": {
    "name": "ipython",
    "version": 3
   },
   "file_extension": ".py",
   "mimetype": "text/x-python",
   "name": "python",
   "nbconvert_exporter": "python",
   "pygments_lexer": "ipython3",
   "version": "3.7.1"
  }
 },
 "nbformat": 4,
 "nbformat_minor": 2
}
