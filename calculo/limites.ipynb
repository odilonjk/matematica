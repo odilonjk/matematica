{
 "cells": [
  {
   "cell_type": "code",
   "execution_count": 18,
   "metadata": {},
   "outputs": [],
   "source": [
    "from sympy import *\n",
    "import matplotlib.pyplot as plt\n",
    "\n",
    "init_printing(use_latex=True)"
   ]
  },
  {
   "cell_type": "markdown",
   "metadata": {},
   "source": [
    "**Solução de alguns calculos de limites**\n",
    "\n",
    "Considerando as funções:\n",
    "\n",
    "$f(x) = {(x^3 + x^2 + x)^{101} }$ \n",
    "\n",
    "$g(x) = \\frac{x^2 - 2x}{(x+1)}$\n",
    "\n",
    "Qual o valor do seguinte limite?\n",
    "\n",
    "$\\lim\\limits_{x \\to -1} f(x) - 4.\\lim\\limits_{x \\to 3} g(x)$\n",
    "\n",
    "\n"
   ]
  },
  {
   "cell_type": "code",
   "execution_count": 3,
   "metadata": {},
   "outputs": [
    {
     "data": {
      "image/png": "[encoded data removed]",
      "text/latex": [
       "$$-4$$"
      ],
      "text/plain": [
       "-4"
      ]
     },
     "execution_count": 3,
     "metadata": {},
     "output_type": "execute_result"
    }
   ],
   "source": [
    "x = Symbol('x')\n",
    "\n",
    "def f(x): return (x**3 + x**2 + x)**101\n",
    "def g(x): return (x**2 - 2*x) / (x + 1)\n",
    "\n",
    "limit(f(x), x, -1) - 4 * limit(g(x), x, 3)"
   ]
  },
  {
   "cell_type": "markdown",
   "metadata": {},
   "source": [
    "Qual o limite da seguinte função? \n",
    "\n",
    "$\\lim\\limits_{R \\to \\infty} = \\frac{110^2}{R}$ "
   ]
  },
  {
   "cell_type": "code",
   "execution_count": 4,
   "metadata": {},
   "outputs": [
    {
     "data": {
      "image/png": "[encoded data removed]",
      "text/latex": [
       "$$0$$"
      ],
      "text/plain": [
       "0"
      ]
     },
     "execution_count": 4,
     "metadata": {},
     "output_type": "execute_result"
    }
   ],
   "source": [
    "R = Symbol('R')\n",
    "def p(R): return 110**2/R\n",
    "\n",
    "limit(p(R), R, oo)"
   ]
  },
  {
   "cell_type": "markdown",
   "metadata": {},
   "source": [
    "Qual o limite da seguinte função? \n",
    "\n",
    "$\\lim\\limits_{t \\to \\infty} {180-110 . (\\frac{1}{2})^{0.5t}}$"
   ]
  },
  {
   "cell_type": "code",
   "execution_count": 176,
   "metadata": {
    "scrolled": true
   },
   "outputs": [
    {
     "name": "stdout",
     "output_type": "stream",
     "text": [
      "Resultado: 180\n"
     ]
    },
    {
     "data": {
      "image/png": "[encoded data removed]",
      "text/plain": [
       "<Figure size 432x288 with 1 Axes>"
      ]
     },
     "metadata": {
      "needs_background": "light"
     },
     "output_type": "display_data"
    }
   ],
   "source": [
    "import matplotlib.pyplot as plt\n",
    "\n",
    "t = Symbol('t')\n",
    "\n",
    "def p(t): return 180 - 110 * (0.5)**(0.5*t)\n",
    "\n",
    "semanas = np.linspace(0, 10)\n",
    "plt.plot([limit(p(t), t, oo) for s in semanas])\n",
    "\n",
    "print('Resultado: {}'.format(limit(p(t), t, oo)))"
   ]
  }
 ],
 "metadata": {
  "kernelspec": {
   "display_name": "Python 3",
   "language": "python",
   "name": "python3"
  },
  "language_info": {
   "codemirror_mode": {
    "name": "ipython",
    "version": 3
   },
   "file_extension": ".py",
   "mimetype": "text/x-python",
   "name": "python",
   "nbconvert_exporter": "python",
   "pygments_lexer": "ipython3",
   "version": "3.7.1"
  }
 },
 "nbformat": 4,
 "nbformat_minor": 2
}
