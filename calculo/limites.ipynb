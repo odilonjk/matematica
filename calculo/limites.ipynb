{
 "cells": [
  {
   "cell_type": "code",
   "execution_count": 1,
   "metadata": {},
   "outputs": [],
   "source": [
    "import numpy as np\n",
    "import matplotlib.pyplot as plt\n",
    "from sympy import *\n",
    "\n",
    "\n",
    "init_printing(use_latex=True)"
   ]
  },
  {
   "cell_type": "markdown",
   "metadata": {},
   "source": [
    "### Solução de alguns cálculos de limites\n",
    "\n",
    "**Exemplo 1**\n",
    "\n",
    "Considerando as funções:\n",
    "\n",
    "$f(x) = {(x^3 + x^2 + x)^{101} }$ \n",
    "\n",
    "$g(x) = \\frac{x^2 - 2x}{(x+1)}$\n",
    "\n",
    "Qual o valor do seguinte limite?\n",
    "\n",
    "$\\lim\\limits_{x \\to -1} f(x) - 4.\\lim\\limits_{x \\to 3} g(x)$\n",
    "\n",
    "\n"
   ]
  },
  {
   "cell_type": "code",
   "execution_count": null,
   "metadata": {},
   "outputs": [],
   "source": [
    "x = Symbol('x')\n",
    "\n",
    "def f(x): return (x**3 + x**2 + x)**101\n",
    "def g(x): return (x**2 - 2*x) / (x + 1)\n",
    "\n",
    "limit(f(x), x, -1) - 4 * limit(g(x), x, 3)"
   ]
  },
  {
   "cell_type": "markdown",
   "metadata": {},
   "source": [
    "**Exemplo 2**\n",
    "\n",
    "Qual o limite da seguinte função? \n",
    "\n",
    "$\\lim\\limits_{R \\to \\infty} = \\frac{110^2}{R}$ "
   ]
  },
  {
   "cell_type": "code",
   "execution_count": null,
   "metadata": {},
   "outputs": [],
   "source": [
    "R = Symbol('R')\n",
    "def p(R): \n",
    "    if R != 0:\n",
    "        return 110**2/R\n",
    "\n",
    "x = np.linspace(0, 100, 100)\n",
    "y = [p(R) for R in x]\n",
    "plt.plot(x, y)\n",
    "\n",
    "plt.xlabel('Resistência')\n",
    "plt.ylabel('Potência')\n",
    "\n",
    "plt.show()\n",
    "\n",
    "print('Resultado: {}'.format(limit(p(R), R, oo)))"
   ]
  },
  {
   "cell_type": "markdown",
   "metadata": {},
   "source": [
    "**Exemplo 3**\n",
    "\n",
    "Considerando a função $p(t) = {180-110 . (\\frac{1}{2})^{0.5t}}$\n",
    "\n",
    "Qual o limite para produção de peças por semana, tendendo ao infinito?\n",
    "\n",
    "$\\lim\\limits_{t \\to \\infty} p(t)$"
   ]
  },
  {
   "cell_type": "code",
   "execution_count": null,
   "metadata": {
    "scrolled": true
   },
   "outputs": [],
   "source": [
    "t = Symbol('t')\n",
    "\n",
    "def p(t): return 180 - 110 * (0.5)**(0.5*t)\n",
    "\n",
    "x = np.linspace(0, 15, 20)\n",
    "y = [p(t) for t in x]\n",
    "plt.plot(x, y)\n",
    "\n",
    "plt.title('Limite de produção de peças')\n",
    "plt.xlabel('Semanas')\n",
    "plt.ylabel('p(t)')\n",
    "\n",
    "plt.show()\n",
    "print('Resultado: {}'.format(limit(p(t), t, oo)))"
   ]
  },
  {
   "cell_type": "markdown",
   "metadata": {},
   "source": [
    "**Exemplo 4**\n",
    "\n",
    "Considerando a função\n",
    "\n",
    "$g(t) = \n",
    "\\begin{cases}\n",
    "    {t^2 + 1, t \\geq 0} \\\\\n",
    "    {t - 2, t < 0}\n",
    "\\end{cases}$\n",
    "\n",
    "Obtemos os seguintes limites:\n",
    "\n",
    "$\\lim\\limits_{t \\to 0^-} g(t)$; $\\lim\\limits_{t \\to 0^+} g(t)$"
   ]
  },
  {
   "cell_type": "code",
   "execution_count": null,
   "metadata": {},
   "outputs": [],
   "source": [
    "t = Symbol('t')\n",
    "\n",
    "print('{}; {}'.format(limit(t - 2, t, 0, '-'), limit(t**2 + 1, t, 0, dir='+')))"
   ]
  }
 ],
 "metadata": {
  "kernelspec": {
   "display_name": "Python 3",
   "language": "python",
   "name": "python3"
  },
  "language_info": {
   "codemirror_mode": {
    "name": "ipython",
    "version": 3
   },
   "file_extension": ".py",
   "mimetype": "text/x-python",
   "name": "python",
   "nbconvert_exporter": "python",
   "pygments_lexer": "ipython3",
   "version": "3.7.1"
  }
 },
 "nbformat": 4,
 "nbformat_minor": 2
}
